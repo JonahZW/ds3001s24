{
 "cells": [
  {
   "cell_type": "markdown",
   "id": "13ad028b-72b7-43ed-aa78-96fd4e518040",
   "metadata": {
    "id": "13ad028b-72b7-43ed-aa78-96fd4e518040"
   },
   "source": [
    "# Assignment: Data Wrangling"
   ]
  },
  {
   "cell_type": "markdown",
   "id": "5735a4d4-8be8-433a-a351-70eb8002e632",
   "metadata": {
    "id": "5735a4d4-8be8-433a-a351-70eb8002e632"
   },
   "source": [
    "**Q1.** Open the \"tidy_data.pdf\" document in the repo, which is a paper called Tidy Data by Hadley Wickham.\n",
    "\n",
    "  1. Read the abstract. What is this paper about?\n",
    "      - The paper is about an improved approach to data cleaning. Specifically, the idea of tidy data refers to cleaned datasets where \"each variable is a column, each observation is a row, and each type of observational unit is a table.\" This framework provides more thorough guidance and better practices for cleaning data in a consistent and meaningful way. The goal of going deep \"into the weeds\" of this one aspect is to setup the dataset in a better way for future usage.\n",
    "  2. Read the introduction. What is the \"tidy data standard\" intended to accomplish?\n",
    "      - As Wickham says, \"A standard makes initial data cleaning easier because you don’t need to start from scratch and reinvent the wheel every time.\" Cleaning data takes a long time (~80% of a data scientist's time), yet there is no standard or expectations for how this should be done. Wickham is trying to rectify this issue by preparing the data to make it simple to analyze.\n",
    "  3. Read the intro to section 2. What does this sentence mean: \"Like families, tidy datasets are all alike but every messy dataset is messy in its own way.\" What does this sentence mean: \"For a given dataset, it’s usually easy to figure out what are observations and what are variables, but it is surprisingly difficult to precisely define variables and observations in general.\"\n",
    "      - \"Like families, tidy datasets are all alike but every messy dataset is messy in its own way.\": tidy data is consistently clean and simple to use, and if it has been properly tidied, will be a) easy to perform analysis on, and b) relatively similarly organized and cleaned compared to other data sets thus minimizing time required to understand it. However, every messy dataset has different *stuff* going on, and will be complicated to understand and clean because each one will be different\n",
    "      - \"For a given dataset, it’s usually easy to figure out what are observations and what are variables, but it is surprisingly difficult to precisely define variables and observations in general.\": This dictates that when looking at a cleaned dataset, you can tell what are observations vs variables (e.g. rows vs columns), but context is required. Two things which could be considered variables in one situation could be observations in a separate (e.g. home phone/work phone as columns could make sense for tracking customer info, but if looking into fraud for those customers, you may want to have phone number and phone type as separate variables for one observation). For someone who isn't familiar with the data, it's important to understand what it actually represents and the goals before trying to clean it.\n",
    "  4. Read Section 2.2. How does Wickham define values, variables, and observations?\n",
    "      - **Values**: the individual items a dataset is made of, usually numbers (quantitative) or strings (qualitative). Each value belongs to both a variable and an observation\n",
    "      - **Variables**: \"all values that measure the same underlying attribute (like height, temperature, duration) across units\"\n",
    "      - **Observations**: \"all values measured on the same unit (like a person, or a day, or a race) across attributes\"\n",
    "  5. How is \"Tidy Data\" defined in section 2.3?\n",
    "      - A standard way of mapping the meaning of a dataset to its structure, defined by 3 main principles:\n",
    "          1. Each variable forms a column\n",
    "          2. Each observation forms a row\n",
    "          3. Each type of observational unit forms a table\n",
    "  6. Read the intro to Section 3 and Section 3.1. What are the 5 most common problems with messy datasets? Why are the data in Table 4 messy? What is \"melting\" a dataset?\n",
    "      - Most common problems (quoted directly)\n",
    "          1. Column headers are values, not variable names.\n",
    "          2. Multiple variables are stored in one column.\n",
    "          3. Variables are stored in both rows and columns.\n",
    "          4. Multiple types of observational units are stored in the same table.\n",
    "          5. A single observational unit is stored in multiple tables.\n",
    "      - Why Table 4 is messy\n",
    "          - This dataset has only 3 variables (`religion`, `income`, and `frequency`) yet 6 columns. To make Table 4 tidy, you would want to have no more than 3 columns, each corresponding to 1 (and only 1) variable representing the info in a cleaner, more specific, and easier to process way.\n",
    "      - \"Melting\" a dataset\n",
    "          - Taking pre-existing columns which are already variables and combining them into rows. Essentially, taking columns, matching up the observations with a better single variable, and aligning them in separate rows instead. Very similar to making a dataset long/tall, but more specific\n",
    "  7. Why, specifically, is table 11 messy but table 12 tidy and \"molten\"?\n",
    "      - Table 11 is messy because it has a separate column for each day of the month when day of the month isn't the relevent variable being tracked; rather, we care about the TMAX and TMIN values as the variables, not the day of the month\n",
    "      - Table 12a is molten because it eliminates missing data and made the table much cleaner, condensing the existing data types according to colvars. It is not tidy, however, because the element column contains variable names instead of values\n",
    "      - Table 12b is tidy because each column represents one variable, and each variable column contains values for a single day such that the variables change by day but all other attributes are fixed and only appear once in a corresponding row\n",
    "  8. Read Section 6. What is the \"chicken-and-egg\" problem with focusing on tidy data? What does Wickham hope happens in the future with further work on the subject of data wrangling?\n",
    "      - Data tidying is only as good as the tools which create tidy data, so the tools will always be somewhat linked to tidy data, leaving us in a constant loop\n",
    "      - Wickham hopes others will continue working on the idea and develop more tools and frameworks for tidy data. To date, little research had been done on tidy data, but there need to be people willing to explore the idea, take risks (and potentially fail) so that others can learn from those and keep advancing the field and developing a more consistent methodology. Wickham's implementation is very broad, and it can also become more specialized and applicable to different data types, too (e.g. multi-dimensional arrays)"
   ]
  },
  {
   "cell_type": "markdown",
   "id": "da879ea7-8aac-48a3-b6c2-daea56d2e072",
   "metadata": {
    "id": "da879ea7-8aac-48a3-b6c2-daea56d2e072"
   },
   "source": [
    "**Q2.** This question provides some practice cleaning variables which have common problems.\n",
    "1. Numeric variable: For `./data/airbnb_hw.csv`, clean the `Price` variable as well as you can, and explain the choices you make. How many missing values do you end up with? (Hint: What happens to the formatting when a price goes over 999 dollars, say from 675 to 1,112?)"
   ]
  },
  {
   "cell_type": "code",
   "execution_count": 2,
   "id": "cbb4b6ea",
   "metadata": {},
   "outputs": [],
   "source": [
    "import numpy as np # Import the numpy package into your workspace\n",
    "import pandas as pd  # Import the pandas package into your workspace"
   ]
  },
  {
   "cell_type": "code",
   "execution_count": 17,
   "id": "70581947",
   "metadata": {},
   "outputs": [
    {
     "name": "stdout",
     "output_type": "stream",
     "text": [
      "['145' '37' '28' '199' '549' '149' '250' '90' '270' '290' '170' '59' '49'\n",
      " '68' '285' '75' '100' '150' '700' '125' '175' '40' '89' '95' '99' '499'\n",
      " '120' '79' '110' '180' '143' '230' '350' '135' '85' '60' '70' '55' '44'\n",
      " '200' '165' '115' '74' '84' '129' '50' '185' '80' '190' '140' '45' '65'\n",
      " '225' '600' '109' '1,990' '73' '240' '72' '105' '155' '160' '42' '132'\n",
      " '117' '295' '280' '159' '107' '69' '239' '220' '399' '130' '375' '585'\n",
      " '275' '139' '260' '35' '133' '300' '289' '179' '98' '195' '29' '27' '39'\n",
      " '249' '192' '142' '169' '1,000' '131' '138' '113' '122' '329' '101' '475'\n",
      " '238' '272' '308' '126' '235' '315' '248' '128' '56' '207' '450' '215'\n",
      " '210' '385' '445' '136' '247' '118' '77' '76' '92' '198' '205' '299'\n",
      " '222' '245' '104' '153' '349' '114' '320' '292' '226' '420' '500' '325'\n",
      " '307' '78' '265' '108' '123' '189' '32' '58' '86' '219' '800' '335' '63'\n",
      " '229' '425' '67' '87' '1,200' '158' '650' '234' '310' '695' '400' '166'\n",
      " '119' '62' '168' '340' '479' '43' '395' '144' '52' '47' '529' '187' '209'\n",
      " '233' '82' '269' '163' '172' '305' '156' '550' '435' '137' '124' '48'\n",
      " '279' '330' '5,000' '134' '378' '97' '277' '64' '193' '147' '186' '264'\n",
      " '30' '3,000' '112' '94' '379' '57' '415' '236' '410' '214' '88' '66' '71'\n",
      " '171' '157' '545' '1,500' '83' '96' '1,800' '81' '188' '380' '255' '505'\n",
      " '54' '33' '174' '93' '740' '640' '1,300' '440' '599' '357' '1,239' '495'\n",
      " '127' '5,999' '178' '348' '152' '242' '183' '253' '750' '259' '365' '273'\n",
      " '197' '397' '103' '389' '355' '559' '38' '203' '999' '141' '162' '333'\n",
      " '698' '46' '360' '895' '10' '41' '206' '281' '449' '388' '212' '102'\n",
      " '201' '2,750' '4,750' '432' '675' '167' '390' '298' '339' '194' '302'\n",
      " '211' '595' '191' '53' '361' '480' '8,000' '4,500' '459' '997' '345'\n",
      " '216' '218' '111' '735' '276' '91' '490' '850' '398' '36' '775' '267'\n",
      " '625' '336' '2,500' '176' '725' '3,750' '469' '106' '460' '287' '575'\n",
      " '227' '263' '25' '228' '208' '177' '880' '148' '116' '685' '470' '217'\n",
      " '164' '61' '645' '699' '405' '252' '319' '268' '419' '343' '525' '311'\n",
      " '840' '154' '294' '950' '409' '184' '257' '204' '241' '2,000' '412' '121'\n",
      " '288' '196' '900' '647' '524' '1,750' '309' '510' '1,495' '1,700' '799'\n",
      " '383' '372' '492' '327' '1,999' '656' '224' '173' '875' '1,170' '795'\n",
      " '690' '146' '465' '1,100' '151' '274' '429' '825' '282' '256' '1,111'\n",
      " '620' '271' '161' '51' '855' '579' '1,174' '430' '20' '899' '649' '485'\n",
      " '181' '455' '4,000' '243' '342' '590' '560' '374' '437' '232' '359' '985'\n",
      " '31' '244' '254' '723' '237' '428' '370' '34' '1,400' '580' '2,520' '221'\n",
      " '749' '1,600' '2,695' '306' '202' '680' '570' '520' '223' '2,295' '213'\n",
      " '1,065' '346' '24' '286' '296' '266' '26' '995' '1,368' '393' '182' '635'\n",
      " '258' '780' '589' '347' '1,250' '1,350' '446' '3,200' '1,050' '1,650'\n",
      " '1,550' '975' '323' '6,500' '2,499' '1,850' '2,250' '715' '461' '540'\n",
      " '356' '439' '384' '569' '1,900' '22' '785' '626' '830' '318' '444' '321'\n",
      " '401' '1,499' '888' '369' '770' '386' '366' '344' '630' '313' '597' '262'\n",
      " '509' '10,000' '278' '312' '789' '1,195' '422' '21' '765' '3,500' '945'\n",
      " '326' '3,100' '2,486' '3,390' '1,356' '2,599' '472' '454' '328' '396'\n",
      " '291']\n",
      "[  145    37    28   199   549   149   250    90   270   290   170    59\n",
      "    49    68   285    75   100   150   700   125   175    40    89    95\n",
      "    99   499   120    79   110   180   143   230   350   135    85    60\n",
      "    70    55    44   200   165   115    74    84   129    50   185    80\n",
      "   190   140    45    65   225   600   109  1990    73   240    72   105\n",
      "   155   160    42   132   117   295   280   159   107    69   239   220\n",
      "   399   130   375   585   275   139   260    35   133   300   289   179\n",
      "    98   195    29    27    39   249   192   142   169  1000   131   138\n",
      "   113   122   329   101   475   238   272   308   126   235   315   248\n",
      "   128    56   207   450   215   210   385   445   136   247   118    77\n",
      "    76    92   198   205   299   222   245   104   153   349   114   320\n",
      "   292   226   420   500   325   307    78   265   108   123   189    32\n",
      "    58    86   219   800   335    63   229   425    67    87  1200   158\n",
      "   650   234   310   695   400   166   119    62   168   340   479    43\n",
      "   395   144    52    47   529   187   209   233    82   269   163   172\n",
      "   305   156   550   435   137   124    48   279   330  5000   134   378\n",
      "    97   277    64   193   147   186   264    30  3000   112    94   379\n",
      "    57   415   236   410   214    88    66    71   171   157   545  1500\n",
      "    83    96  1800    81   188   380   255   505    54    33   174    93\n",
      "   740   640  1300   440   599   357  1239   495   127  5999   178   348\n",
      "   152   242   183   253   750   259   365   273   197   397   103   389\n",
      "   355   559    38   203   999   141   162   333   698    46   360   895\n",
      "    10    41   206   281   449   388   212   102   201  2750  4750   432\n",
      "   675   167   390   298   339   194   302   211   595   191    53   361\n",
      "   480  8000  4500   459   997   345   216   218   111   735   276    91\n",
      "   490   850   398    36   775   267   625   336  2500   176   725  3750\n",
      "   469   106   460   287   575   227   263    25   228   208   177   880\n",
      "   148   116   685   470   217   164    61   645   699   405   252   319\n",
      "   268   419   343   525   311   840   154   294   950   409   184   257\n",
      "   204   241  2000   412   121   288   196   900   647   524  1750   309\n",
      "   510  1495  1700   799   383   372   492   327  1999   656   224   173\n",
      "   875  1170   795   690   146   465  1100   151   274   429   825   282\n",
      "   256  1111   620   271   161    51   855   579  1174   430    20   899\n",
      "   649   485   181   455  4000   243   342   590   560   374   437   232\n",
      "   359   985    31   244   254   723   237   428   370    34  1400   580\n",
      "  2520   221   749  1600  2695   306   202   680   570   520   223  2295\n",
      "   213  1065   346    24   286   296   266    26   995  1368   393   182\n",
      "   635   258   780   589   347  1250  1350   446  3200  1050  1650  1550\n",
      "   975   323  6500  2499  1850  2250   715   461   540   356   439   384\n",
      "   569  1900    22   785   626   830   318   444   321   401  1499   888\n",
      "   369   770   386   366   344   630   313   597   262   509 10000   278\n",
      "   312   789  1195   422    21   765  3500   945   326  3100  2486  3390\n",
      "  1356  2599   472   454   328   396   291]\n",
      "Total missing: 0\n"
     ]
    }
   ],
   "source": [
    "df = pd.read_csv('data/airbnb_hw.csv',low_memory=False) # read in CSV\n",
    "\n",
    "print(df['Price'].unique())  # visually inspect to see what cleaning must be done - notice that values ≥ 1000 have commas\n",
    "df['Price'] = df['Price'].str.replace(',','') # remove commas\n",
    "df['Price'] = pd.to_numeric(df['Price'], errors='coerce') # convert from strings to numbers\n",
    "print(df['Price'].unique()) # visually inspect to see if it looks good - it does :)\n",
    "\n",
    "print('Total missing:', sum(df['Price'].isnull())) # and none are missing! yay!\n"
   ]
  },
  {
   "cell_type": "markdown",
   "id": "05300658",
   "metadata": {},
   "source": [
    "2. Categorical variable: For the `./data/sharks.csv` data covered in the lecture, clean the \"Type\" variable as well as you can, and explain the choices you make."
   ]
  },
  {
   "cell_type": "code",
   "execution_count": 31,
   "id": "20743275",
   "metadata": {},
   "outputs": [
    {
     "name": "stdout",
     "output_type": "stream",
     "text": [
      "Type: object \n",
      "\n",
      "Counts before: Type\n",
      "Unprovoked             4716\n",
      "Provoked                593\n",
      "Invalid                 552\n",
      "Sea Disaster            239\n",
      "Watercraft              142\n",
      "Boat                    109\n",
      "Boating                  92\n",
      "Questionable             10\n",
      "Unconfirmed               1\n",
      "Unverified                1\n",
      "Under investigation       1\n",
      "Boatomg                   1\n",
      "Name: count, dtype: int64 \n",
      "\n",
      "Count after: Type\n",
      "Unprovoked    4716\n",
      "Provoked       593\n",
      "Watercraft     583\n",
      "Unclear        565\n",
      "Name: count, dtype: int64\n"
     ]
    }
   ],
   "source": [
    "df = pd.read_csv('data/sharks.csv', low_memory=False) # read in data\n",
    "\n",
    "# see type and counts\n",
    "print('Type:',df['Type'].dtypes,'\\n')\n",
    "print('Counts before:',df['Type'].value_counts(),'\\n') # identify what the current values are\n",
    "\n",
    "\"\"\"\n",
    "Observations:\n",
    "- what does invalid mean?\n",
    "- sea disaster, watercraft, boat, boating, boatomg (prob typo) all boat related\n",
    "- questionable, unconfirmed, unverified, under investigation all mean not for sure at the moment\n",
    "   * and can lump invalid into \"not for sure\n",
    "\"\"\"\n",
    "\n",
    "# replace unclean values w clean ones\n",
    "df['Type'] = df['Type'].replace(['Invalid','Questionable','Unconfirmed','Unverified','Under investigation'],'Unclear')\n",
    "df['Type'] = df['Type'].replace(['Sea Disaster','Watercraft','Boat','Boating','Boatomg'],'Watercraft')\n",
    "\n",
    "# verify work\n",
    "print('Count after:',df['Type'].value_counts())"
   ]
  },
  {
   "cell_type": "markdown",
   "id": "ec04c454",
   "metadata": {},
   "source": [
    "3. Dummy variable: For the pretrial data covered in the lecture, clean the `WhetherDefendantWasReleasedPretrial` variable as well as you can, and, in particular, replace missing values with `np.nan`."
   ]
  },
  {
   "cell_type": "markdown",
   "id": "09e4199f",
   "metadata": {},
   "source": [
    "(downloading data in a different cell to avoid repeating and waiting 20+ seconds each time)"
   ]
  },
  {
   "cell_type": "code",
   "execution_count": 49,
   "id": "2358d565",
   "metadata": {},
   "outputs": [],
   "source": [
    "url = 'http://www.vcsc.virginia.gov/pretrialdataproject/October%202017%20Cohort_Virginia%20Pretrial%20Data%20Project_Deidentified%20FINAL%20Update_10272021.csv'\n",
    "df = pd.read_csv(url,low_memory=False) # Pandas downloads and loads the .csv file for you"
   ]
  },
  {
   "cell_type": "code",
   "execution_count": 50,
   "id": "34ccf629",
   "metadata": {},
   "outputs": [
    {
     "name": "stdout",
     "output_type": "stream",
     "text": [
      "Orig values: [9 0 1]\n",
      "New values [nan  0.  1.] \n",
      "\n",
      "ReleasedPretrial\n",
      "1.0    19154\n",
      "0.0     3801\n",
      "Name: count, dtype: int64\n",
      "missing: 31\n"
     ]
    }
   ],
   "source": [
    "df = df.rename(columns={'WhetherDefendantWasReleasedPretrial':'ReleasedPretrial'}) # shorten name\n",
    "var = 'ReleasedPretrial'\n",
    "\n",
    "print('Orig values:',df[var].unique()) # inspect what values there are: [9, 0, 1]\n",
    "# according to codebook, 0 = not released, 1 = was released, 9 = unclear\n",
    "# unclear is not a valuable result, so replace with np.nan\n",
    "\n",
    "df[var] = df[var].replace(9,np.nan)\n",
    "\n",
    "print('New values',df[var].unique(),'\\n')\n",
    "\n",
    "print(df[var].value_counts())\n",
    "print('missing:',sum(df[var].isnull()))"
   ]
  },
  {
   "cell_type": "markdown",
   "id": "eaea6464",
   "metadata": {},
   "source": [
    "4. Missing values, not at random: For the pretrial data covered in the lecture, clean the `ImposedSentenceAllChargeInContactEvent` variable as well as you can, and explain the choices you make. (Hint: Look at the `SentenceTypeAllChargesAtConvictionInContactEvent` variable.)"
   ]
  },
  {
   "cell_type": "code",
   "execution_count": 65,
   "id": "ec52f189",
   "metadata": {},
   "outputs": [
    {
     "name": "stdout",
     "output_type": "stream",
     "text": [
      "Number of missing values: 9053\n",
      "Unique sentence types: SentenceTypeAllChargesAtConvictionInContactEvent\n",
      "4    8779\n",
      "0    8720\n",
      "1    4299\n",
      "2     914\n",
      "9     274\n",
      "Name: count, dtype: int64\n",
      "\n",
      "New number missing values: 274\n"
     ]
    }
   ],
   "source": [
    "sentence = df['ImposedSentenceAllChargeInContactEvent']\n",
    "sentence_type = df['SentenceTypeAllChargesAtConvictionInContactEvent']\n",
    "\n",
    "#print(sentence.unique()) # see all sentence types\n",
    "sentence = pd.to_numeric(sentence,errors='coerce')\n",
    "#print(sentence.unique()) # verify were converted to numbers\n",
    "\n",
    "print('Number of missing values:',sum(sentence.isnull()))\n",
    "print('Unique sentence types:',sentence_type.value_counts()) \n",
    "    # from codebook: \n",
    "    # 0 = Probation/no incarceration\n",
    "    # 1 = Jail up to 12 months\n",
    "    # 2 = Prison (one year or more)\n",
    "    # 4 = Other, all charges in cohort contact resulted in pending, dismissed, deferred, etc.\n",
    "    # 9 = Not applicable (e.g., disposition record not found, or unknown)\n",
    "# interesting... 8779 (sentence_type = 4, so other) + 274 (sentence_type = 9, so n/a) = 9053 (same number of missing values)\n",
    "# can also verify:\n",
    "pd.crosstab(sentence_type,sentence.isnull()) # note: true = yes, sentence_type is null, false = no, sentence type is NOT null\n",
    "# we want to minimize number of fully missing values, and it *deeeeffffinitely* seems theres a connection b/w \n",
    "# sentence_type = 4 and imposed_sentence = null\n",
    "# we'll replace those values where it's other with 0 instead of a negative number b/c then could still find average time and other stats, plus consistent\n",
    "sentence = sentence.mask(sentence_type == 4, 0)\n",
    "\n",
    "# verify\n",
    "print('\\nNew number missing values:',sum(sentence.isnull()))\n",
    "\n",
    "# update orig dataframe:\n",
    "df['ImposedSentenceAllChargeInContactEvent'] = sentence"
   ]
  },
  {
   "cell_type": "markdown",
   "id": "649494cd-cfd6-4f80-992a-9994fc19e1d5",
   "metadata": {
    "id": "649494cd-cfd6-4f80-992a-9994fc19e1d5"
   },
   "source": [
    "Welp... only now seeing I only have to do one question, so don't grade Q3 :)\n",
    "\n",
    "**Q3.** Many important datasets contain a race variable, typically limited to a handful of values often including Black, White, Asian, Latino, and Indigenous. This question looks at data gathering efforts on this variable by the U.S. Federal government.\n",
    "\n",
    "1. How did the most recent US Census gather data on race?\n",
    "    - According to a page on [census.gov](https://www.census.gov/topics/population/race.html) (linked), people self-identify their race, and have the option to report more than one race. It also makes a point to separate race from ethnicity (\"People of any race may be of any ethnic origin.\")\n",
    "2. Why do we gather these data? What role do these kinds of data play in politics and society? Why does data quality matter?\n",
    "    - There are a variety of reasons this data is collected. Some which come to mind include demographic data, history, and consistency. The purpose of the census is to provide a measure of who is in the US at a given point, and to some extent, that includes their background.\n",
    "    - Race can play a large factor in someone's identity, and identities could be reflected in where someone may live, how they vote, what resources they need, and more. It also provides an important check to examine systematic discrimination and explore how people of differing backgrounds have/take advantage of different opportunities (pay discrepancy, education level, wealth, etc)\n",
    "    - This data must be of a high quality to paint an accurate picture of the state of the nation: who lives here, and provide some data behind how different parts of a person's identity affect their lives compared to others. Plus, the census is only done once every 10 years, so it's important to have data be as accurate as possible because there won't be another opportunity to collect it on this large a scale for another decade.\n",
    "3. Please provide a constructive criticism of how the Census was conducted: What was done well? What do you think was missing? How should future large scale surveys be adjusted to best reflect the diversity of the population? Could some of the Census' good practices be adopted more widely to gather richer and more useful data?\n",
    "4. How did the Census gather data on sex and gender? Please provide a similar constructive criticism of their practices.\n",
    "5. When it comes to cleaning data, what concerns do you have about protected characteristics like sex, gender, sexual identity, or race? What challenges can you imagine arising when there are missing values? What good or bad practices might people adopt, and why?\n",
    "6. Suppose someone invented an algorithm to impute values for protected characteristics like race, gender, sex, or sexuality. What kinds of concerns would you have?"
   ]
  },
  {
   "cell_type": "markdown",
   "id": "b30ff1b5",
   "metadata": {},
   "source": []
  }
 ],
 "metadata": {
  "colab": {
   "provenance": []
  },
  "kernelspec": {
   "display_name": "Python 3 (ipykernel)",
   "language": "python",
   "name": "python3"
  },
  "language_info": {
   "codemirror_mode": {
    "name": "ipython",
    "version": 3
   },
   "file_extension": ".py",
   "mimetype": "text/x-python",
   "name": "python",
   "nbconvert_exporter": "python",
   "pygments_lexer": "ipython3",
   "version": "3.10.6"
  }
 },
 "nbformat": 4,
 "nbformat_minor": 5
}
